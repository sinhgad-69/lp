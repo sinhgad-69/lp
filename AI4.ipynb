{
 "cells": [
  {
   "cell_type": "code",
   "execution_count": null,
   "id": "2db0e6a8-1377-43c9-a380-be12ce5406d1",
   "metadata": {},
   "outputs": [],
   "source": [
    "#Backtracking Solution for N-Queens"
   ]
  },
  {
   "cell_type": "code",
   "execution_count": 1,
   "id": "88f8ca18-fb39-4514-ab61-57f76fd858cd",
   "metadata": {},
   "outputs": [
    {
     "name": "stdout",
     "output_type": "stream",
     "text": [
      "N-Queens Solution using Backtracking:\n",
      ". Q . .\n",
      ". . . Q\n",
      "Q . . .\n",
      ". . Q .\n",
      "\n"
     ]
    },
    {
     "data": {
      "text/plain": [
       "True"
      ]
     },
     "execution_count": 1,
     "metadata": {},
     "output_type": "execute_result"
    }
   ],
   "source": [
    "def print_board(board):\n",
    "    for row in board:\n",
    "        print(\" \".join(\"Q\" if col else \".\" for col in row))\n",
    "    print()\n",
    "\n",
    "def is_safe(board, row, col, n):\n",
    "    # Check column\n",
    "    for i in range(row):\n",
    "        if board[i][col]:\n",
    "            return False\n",
    "    # Check diagonal \\\n",
    "    for i, j in zip(range(row-1, -1, -1), range(col-1, -1, -1)):\n",
    "        if board[i][j]:\n",
    "            return False\n",
    "    # Check diagonal /\n",
    "    for i, j in zip(range(row-1, -1, -1), range(col+1, n)):\n",
    "        if board[i][j]:\n",
    "            return False\n",
    "    return True\n",
    "\n",
    "def solve_n_queens_bt(board, row, n):\n",
    "    if row == n:\n",
    "        print_board(board)\n",
    "        return True  # Only one solution\n",
    "    for col in range(n):\n",
    "        if is_safe(board, row, col, n):\n",
    "            board[row][col] = 1\n",
    "            if solve_n_queens_bt(board, row + 1, n):\n",
    "                return True\n",
    "            board[row][col] = 0  # Backtrack\n",
    "    return False\n",
    "\n",
    "# Set board size\n",
    "n = 4\n",
    "board = [[0]*n for _ in range(n)]\n",
    "print(\"N-Queens Solution using Backtracking:\")\n",
    "solve_n_queens_bt(board, 0, n)\n"
   ]
  }
 ],
 "metadata": {
  "kernelspec": {
   "display_name": "Python [conda env:base] *",
   "language": "python",
   "name": "conda-base-py"
  },
  "language_info": {
   "codemirror_mode": {
    "name": "ipython",
    "version": 3
   },
   "file_extension": ".py",
   "mimetype": "text/x-python",
   "name": "python",
   "nbconvert_exporter": "python",
   "pygments_lexer": "ipython3",
   "version": "3.12.7"
  }
 },
 "nbformat": 4,
 "nbformat_minor": 5
}
