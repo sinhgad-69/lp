{
 "cells": [
  {
   "cell_type": "code",
   "execution_count": 1,
   "id": "5ca37e7c-9172-488e-b1fd-0eee2d253318",
   "metadata": {},
   "outputs": [
    {
     "name": "stdout",
     "output_type": "stream",
     "text": [
      "Original array:\n",
      "[64, 25, 12, 22, 11]\n",
      "Sorted array:\n",
      "[11, 12, 22, 25, 64]\n"
     ]
    }
   ],
   "source": [
    "def selection_sort(arr):\n",
    "    n = len(arr)\n",
    "    for i in range(n):\n",
    "        min_idx = i  # Assume the current index has the minimum\n",
    "        for j in range(i+1, n):\n",
    "            if arr[j] < arr[min_idx]:  # Find the actual minimum\n",
    "                min_idx = j\n",
    "        # Swap the found minimum with the current position\n",
    "        arr[i], arr[min_idx] = arr[min_idx], arr[i]\n",
    "\n",
    "# Sample array\n",
    "arr = [64, 25, 12, 22, 11]\n",
    "\n",
    "print(\"Original array:\")\n",
    "print(arr)\n",
    "\n",
    "# Run Selection Sort\n",
    "selection_sort(arr)\n",
    "\n",
    "print(\"Sorted array:\")\n",
    "print(arr)\n"
   ]
  },
  {
   "cell_type": "code",
   "execution_count": 1,
   "id": "6affb7b0-754d-49bf-8a79-1010a31ffd2c",
   "metadata": {},
   "outputs": [
    {
     "name": "stdout",
     "output_type": "stream",
     "text": [
      "Edges in the MST: [('A', 'B', 2), ('B', 'C', 1), ('B', 'D', 4)]\n",
      "A - B with weight 2\n",
      "B - C with weight 1\n",
      "B - D with weight 4\n"
     ]
    }
   ],
   "source": [
    "graph = {\n",
    "    'A': {'B': 2, 'C': 3},\n",
    "    'B': {'A': 2, 'C': 1, 'D': 4},\n",
    "    'C': {'A': 3, 'B': 1, 'D': 5},\n",
    "    'D': {'B': 4, 'C': 5}\n",
    "}\n",
    "\n",
    "def prims(graph, start):\n",
    "    mst = []\n",
    "    visited = set([start])\n",
    "    \n",
    "    while len(visited) < len(graph):\n",
    "        edges = []\n",
    "        for node in visited:\n",
    "            for neighbor, weight in graph[node].items():\n",
    "                if neighbor not in visited:\n",
    "                    edges.append((weight, node, neighbor))\n",
    "        weight, src, dest = min(edges)\n",
    "        mst.append((src, dest, weight))\n",
    "        visited.add(dest)\n",
    "    \n",
    "    return mst\n",
    "\n",
    "# Run Prim's Algorithm\n",
    "mst = prims(graph, 'A')\n",
    "print(\"Edges in the MST:\", mst)\n",
    "for src, dest, weight in mst:\n",
    "    print(f\"{src} - {dest} with weight {weight}\")\n",
    "\n",
    "\n"
   ]
  },
  {
   "cell_type": "code",
   "execution_count": null,
   "id": "f6e80b09-82ab-4a49-96a0-4c03de97da13",
   "metadata": {},
   "outputs": [],
   "source": []
  }
 ],
 "metadata": {
  "kernelspec": {
   "display_name": "Python [conda env:base] *",
   "language": "python",
   "name": "conda-base-py"
  },
  "language_info": {
   "codemirror_mode": {
    "name": "ipython",
    "version": 3
   },
   "file_extension": ".py",
   "mimetype": "text/x-python",
   "name": "python",
   "nbconvert_exporter": "python",
   "pygments_lexer": "ipython3",
   "version": "3.12.7"
  }
 },
 "nbformat": 4,
 "nbformat_minor": 5
}
