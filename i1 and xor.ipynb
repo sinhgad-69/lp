{
 "cells": [
  {
   "cell_type": "code",
   "execution_count": null,
   "id": "a78b589c",
   "metadata": {},
   "outputs": [
    {
     "name": "stdout",
     "output_type": "stream",
     "text": [
      "AND Result:  Hello World\n",
      "\u0013\u001bR Result:  7\u001a\u0013\u0013\u0010_(\u0010\n"
     ]
    }
   ],
   "source": [
    "string = input(\"Enter :\")\n",
    "res_and=\"\"\n",
    "res_xor = \"\"\n",
    "\n",
    "for char in string:\n",
    "    and_val = ord(char)&127\n",
    "    xor_val = ord(char)^127\n",
    "    res_and += chr(and_val)\n",
    "    res_xor += chr(xor_val)\n",
    "    \n",
    "print(\"AND Result: \",res_and)\n",
    "print(\"XOR Result: \",res_xor)\n"
   ]
  }
 ],
 "metadata": {
  "kernelspec": {
   "display_name": "Python 3 (ipykernel)",
   "language": "python",
   "name": "python3"
  }
 },
 "nbformat": 4,
 "nbformat_minor": 5
}
