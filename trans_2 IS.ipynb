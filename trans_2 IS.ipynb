{
 "cells": [
  {
   "cell_type": "code",
   "execution_count": 1,
   "id": "177b6066-7b7d-4d43-93c5-2a8004a9441d",
   "metadata": {},
   "outputs": [
    {
     "name": "stdout",
     "output_type": "stream",
     "text": [
      "Original message: TRANSPOSITIONCIPHER\n",
      "Encrypted message: TPIPROOHASNENICRSTI\n",
      "Decrypted message: TRANSPOSITIONCIPHER\n"
     ]
    }
   ],
   "source": [
    "def encrypt_message(message, key):\n",
    "    # Create empty strings for each column\n",
    "    cipher = [''] * key\n",
    "\n",
    "    # Loop through each column\n",
    "    for col in range(key):\n",
    "        pointer = col\n",
    "        while pointer < len(message):\n",
    "            cipher[col] += message[pointer]\n",
    "            pointer += key\n",
    "\n",
    "    # Join all columns to get ciphertext\n",
    "    return ''.join(cipher)\n",
    "\n",
    "def decrypt_message(ciphertext, key):\n",
    "    num_cols = key\n",
    "    num_rows = -(-len(ciphertext) // key)  # Ceiling division\n",
    "    plaintext = ''\n",
    "\n",
    "    for row in range(num_rows):\n",
    "        for col in range(num_cols):\n",
    "            idx = col * num_rows + row\n",
    "            if idx < len(ciphertext):\n",
    "                plaintext += ciphertext[idx]\n",
    "\n",
    "    return plaintext\n",
    "\n",
    "\n",
    "# Example usage\n",
    "message = \"TRANSPOSITIONCIPHER\"\n",
    "key = 5\n",
    "\n",
    "print(\"Original message:\", message)\n",
    "encrypted = encrypt_message(message, key)\n",
    "print(\"Encrypted message:\", encrypted)\n",
    "\n",
    "decrypted = decrypt_message(encrypted, key)\n",
    "print(\"Decrypted message:\", decrypted)"
   ]
  },
  {
   "cell_type": "code",
   "execution_count": null,
   "id": "a9846b13-2a9a-424d-88db-ddcafa8b91e8",
   "metadata": {},
   "outputs": [],
   "source": []
  }
 ],
 "metadata": {
  "kernelspec": {
   "display_name": "Python [conda env:base] *",
   "language": "python",
   "name": "conda-base-py"
  },
  "language_info": {
   "codemirror_mode": {
    "name": "ipython",
    "version": 3
   },
   "file_extension": ".py",
   "mimetype": "text/x-python",
   "name": "python",
   "nbconvert_exporter": "python",
   "pygments_lexer": "ipython3",
   "version": "3.12.7"
  }
 },
 "nbformat": 4,
 "nbformat_minor": 5
}
