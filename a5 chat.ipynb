{
 "cells": [
  {
   "cell_type": "code",
   "execution_count": 1,
   "id": "d9dd9343",
   "metadata": {},
   "outputs": [
    {
     "name": "stdout",
     "output_type": "stream",
     "text": [
      "Hello! I am chatbot. How may i help you?\n",
      "Chatbot: Hello there! How are you doing today?\n",
      "Chatbot: Bye! Have a great day.\n"
     ]
    }
   ],
   "source": [
    "def chatbot():\n",
    "    print(\"Hello! I am chatbot. How may i help you?\")\n",
    "    while True:\n",
    "        user_input = input().lower()\n",
    "        if user_input == \"bye\":\n",
    "            print(\"Chatbot: Bye! Have a great day.\")\n",
    "            break\n",
    "        elif user_input == \"hello\":\n",
    "            print(\"Chatbot: Hello there! How are you doing today?\")\n",
    "        elif user_input == \"how are you\":\n",
    "            print(\"Chatbot: I'm doing great, thanks for asking. What would you like to see?\")\n",
    "        elif user_input == \"phone\":\n",
    "            print(\"Chatbot: Sure! Which brand are you interested in?\")\n",
    "        elif user_input == \"apple\":\n",
    "            print(\"Chatbot: Okay. What is your budget?\")\n",
    "        elif user_input == \"100000\":\n",
    "            print(\"Chatbot: Great! Here are some top models under ₹100000: iPhone 14, iPhone 13 Pro, iPhone 15 (base).\")\n",
    "        elif user_input == \"ok\":\n",
    "            print(\"Chatbot: Let me know if you want to know more about a specific model.\")\n",
    "        elif user_input == \"thank you\":\n",
    "            print(\"Chatbot: You're welcome! See you again.\")\n",
    "        else:\n",
    "            print(\"Chatbot: I didn't understand that. Can you please rephrase?\")\n",
    "chatbot()\n",
    "        \n"
   ]
  }
 ],
 "metadata": {
  "kernelspec": {
   "display_name": "Python 3 (ipykernel)",
   "language": "python",
   "name": "python3"
  },
  "language_info": {
   "codemirror_mode": {
    "name": "ipython",
    "version": 3
   },
   "file_extension": ".py",
   "mimetype": "text/x-python",
   "name": "python",
   "nbconvert_exporter": "python",
   "pygments_lexer": "ipython3",
   "version": "3.12.9"
  }
 },
 "nbformat": 4,
 "nbformat_minor": 5
}
