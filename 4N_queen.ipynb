{
 "cells": [
  {
   "cell_type": "code",
   "execution_count": 1,
   "id": "e3c07843-3832-48ee-a2a0-474d524b6737",
   "metadata": {},
   "outputs": [
    {
     "name": "stdin",
     "output_type": "stream",
     "text": [
      "Enter number of queens:  4\n"
     ]
    },
    {
     "name": "stdout",
     "output_type": "stream",
     "text": [
      "[0, 1, 0, 0]\n",
      "[0, 0, 0, 1]\n",
      "[1, 0, 0, 0]\n",
      "[0, 0, 1, 0]\n"
     ]
    }
   ],
   "source": [
    "N = int(input(\"Enter number of queens: \"))\n",
    "\n",
    "board = [[0]*N for _ in range(N)]\n",
    "\n",
    "def is_safe(row, col):\n",
    "    # Check row and column\n",
    "    for i in range(N):\n",
    "        if board[row][i] == 1 or board[i][col] == 1:\n",
    "            return False\n",
    "    # Check diagonals\n",
    "    for i in range(N):\n",
    "        for j in range(N):\n",
    "            if (i + j == row + col) or (i - j == row - col):\n",
    "                if board[i][j] == 1:\n",
    "                    return False\n",
    "    return True\n",
    "\n",
    "def solve(n):\n",
    "    if n == 0:\n",
    "        return True\n",
    "    for i in range(N):\n",
    "        for j in range(N):\n",
    "            if board[i][j] == 0 and is_safe(i, j):\n",
    "                board[i][j] = 1\n",
    "                if solve(n - 1):\n",
    "                    return True\n",
    "                board[i][j] = 0  # backtrack\n",
    "    return False\n",
    "\n",
    "solve(N)\n",
    "\n",
    "for row in board:\n",
    "    print(row)"
   ]
  },
  {
   "cell_type": "code",
   "execution_count": null,
   "id": "84a36434-dae0-45a6-b920-410a58326e5c",
   "metadata": {},
   "outputs": [],
   "source": []
  }
 ],
 "metadata": {
  "kernelspec": {
   "display_name": "Python [conda env:base] *",
   "language": "python",
   "name": "conda-base-py"
  },
  "language_info": {
   "codemirror_mode": {
    "name": "ipython",
    "version": 3
   },
   "file_extension": ".py",
   "mimetype": "text/x-python",
   "name": "python",
   "nbconvert_exporter": "python",
   "pygments_lexer": "ipython3",
   "version": "3.12.7"
  }
 },
 "nbformat": 4,
 "nbformat_minor": 5
}
