{
 "cells": [
  {
   "cell_type": "code",
   "execution_count": 1,
   "id": "6a720f83",
   "metadata": {},
   "outputs": [],
   "source": [
    "import math"
   ]
  },
  {
   "cell_type": "code",
   "execution_count": 12,
   "id": "03fb1203",
   "metadata": {},
   "outputs": [],
   "source": [
    "# Step 1: Input two prime numbers\n",
    "p = int(input(\"Enter prime number p: \"))\n",
    "q = int(input(\"Enter another prime number q: \"))"
   ]
  },
  {
   "cell_type": "code",
   "execution_count": 13,
   "id": "332bd5ac",
   "metadata": {},
   "outputs": [],
   "source": [
    "# Step 2: Compute n and φ(n)\n",
    "n = p * q\n",
    "phi = (p - 1) * (q - 1)"
   ]
  },
  {
   "cell_type": "code",
   "execution_count": 14,
   "id": "06f53232",
   "metadata": {},
   "outputs": [],
   "source": [
    "# Step 3: Choose e such that 1 < e < phi and gcd(e, phi) = 1\n",
    "# We'll choose a common e = 17 for simplicity\n",
    "e = 17\n",
    "\n",
    "# Step 4: Compute d, the modular inverse of e modulo phi\n",
    "# That is, d such that (d * e) % phi == 1\n",
    "def mod_inverse(e, phi):\n",
    "    for d in range(1, phi):\n",
    "        if (d * e) % phi == 1:\n",
    "            return d\n",
    "    return None\n",
    "\n",
    "d = mod_inverse(e, phi)"
   ]
  },
  {
   "cell_type": "code",
   "execution_count": 15,
   "id": "c82239c2",
   "metadata": {},
   "outputs": [],
   "source": [
    "# Step 5: Input message\n",
    "msg = int(input(f\"Enter number message to encrypt (less than {n}): \"))"
   ]
  },
  {
   "cell_type": "code",
   "execution_count": 16,
   "id": "76ef2b39",
   "metadata": {},
   "outputs": [
    {
     "name": "stdout",
     "output_type": "stream",
     "text": [
      "Encrypted message: 7\n",
      "Decrypted message: 13\n"
     ]
    }
   ],
   "source": [
    "# Step 6: Encrypt the message\n",
    "C = pow(msg, e, n)\n",
    "print(\"Encrypted message:\", C)\n",
    "\n",
    "# Step 7: Decrypt the message\n",
    "M = pow(C, d, n)\n",
    "print(\"Decrypted message:\", M)"
   ]
  }
 ],
 "metadata": {
  "kernelspec": {
   "display_name": "Python 3 (ipykernel)",
   "language": "python",
   "name": "python3"
  },
  "language_info": {
   "codemirror_mode": {
    "name": "ipython",
    "version": 3
   },
   "file_extension": ".py",
   "mimetype": "text/x-python",
   "name": "python",
   "nbconvert_exporter": "python",
   "pygments_lexer": "ipython3",
   "version": "3.12.9"
  }
 },
 "nbformat": 4,
 "nbformat_minor": 5
}
