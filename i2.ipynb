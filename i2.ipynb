{
 "cells": [
  {
   "cell_type": "code",
   "execution_count": 6,
   "id": "9f30e1dd",
   "metadata": {},
   "outputs": [
    {
     "name": "stdout",
     "output_type": "stream",
     "text": [
      "Original message: TRANSPOSITIONCIPHER\n",
      "Encrypted message: TPIPROOHASNENICRSTI\n",
      "Decrypted message: TRANSPOSITIONCIPHER\n"
     ]
    }
   ],
   "source": [
    "def encrypt_message(message, key):\n",
    "    # Create empty strings for each column\n",
    "    cipher = [''] * key\n",
    "\n",
    "    # Loop through each column\n",
    "    for col in range(key):\n",
    "        pointer = col\n",
    "        while pointer < len(message):\n",
    "            cipher[col] += message[pointer]\n",
    "            pointer += key\n",
    "\n",
    "    # Join all columns to get ciphertext\n",
    "    return ''.join(cipher)\n",
    "\n",
    "def decrypt_message(ciphertext, key):\n",
    "    # Calculate number of rows and shaded boxes\n",
    "    num_of_rows = key\n",
    "    num_of_cols = len(ciphertext) // key\n",
    "    if len(ciphertext) % key:\n",
    "        num_of_cols += 1\n",
    "    num_of_shaded_boxes = (num_of_cols * num_of_rows) - len(ciphertext)\n",
    "\n",
    "    # Create empty strings for each row\n",
    "    plaintext = [''] * num_of_cols\n",
    "\n",
    "    col = 0\n",
    "    row = 0\n",
    "\n",
    "    for symbol in ciphertext:\n",
    "        plaintext[col] += symbol\n",
    "        col += 1\n",
    "\n",
    "        # Check if we need to wrap to the next row\n",
    "        if (col == num_of_cols) or (col == num_of_cols - 1 and row >= num_of_rows - num_of_shaded_boxes):\n",
    "            col = 0\n",
    "            row += 1\n",
    "\n",
    "    return ''.join(plaintext)\n",
    "\n",
    "# Example usage\n",
    "message = \"TRANSPOSITIONCIPHER\"\n",
    "key = 5\n",
    "\n",
    "print(\"Original message:\", message)\n",
    "encrypted = encrypt_message(message, key)\n",
    "print(\"Encrypted message:\", encrypted)\n",
    "\n",
    "decrypted = decrypt_message(encrypted, key)\n",
    "print(\"Decrypted message:\", decrypted)"
   ]
  }
 ],
 "metadata": {
  "kernelspec": {
   "display_name": "Python 3 (ipykernel)",
   "language": "python",
   "name": "python3"
  }
 },
 "nbformat": 4,
 "nbformat_minor": 5
}
