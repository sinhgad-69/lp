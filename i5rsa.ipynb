{
 "cells": [
  {
   "cell_type": "code",
   "execution_count": null,
   "id": "c20ac3a5",
   "metadata": {
    "vscode": {
     "languageId": "plaintext"
    }
   },
   "outputs": [],
   "source": [
    "# Define two small prime numbers\n",
    "p = 61\n",
    "q = 53\n",
    "\n",
    "# Calculate n, which is part of the public and private keys\n",
    "n = p * q            # n = 3233\n",
    "\n",
    "# Compute Euler's totient function φ(n)\n",
    "phi = (p - 1) * (q - 1)  # phi = 3120\n",
    "\n",
    "# Choose a public exponent e such that 1 < e < phi and gcd(e, phi) = 1\n",
    "e = 17  # 17 is a common choice and is coprime with 3120\n",
    "\n",
    "# Function to compute modular inverse of e mod phi (find d)\n",
    "# So that (d * e) % phi == 1\n",
    "def modinv(e, phi):\n",
    "    for d in range(1, phi):\n",
    "        if (d * e) % phi == 1:\n",
    "            return d  # Found the private exponent d\n",
    "\n",
    "# Calculate the private key d\n",
    "d = modinv(e, phi)   # d = 2753\n",
    "\n",
    "# Define the encryption function using: c = m^e mod n\n",
    "def encrypt(m):\n",
    "    return pow(m, e, n)\n",
    "\n",
    "# Define the decryption function using: m = c^d mod n\n",
    "def decrypt(c):\n",
    "    return pow(c, d, n)\n",
    "\n",
    "# Set the message to be encrypted\n",
    "msg = 123  # plaintext message\n",
    "\n",
    "# Encrypt the message with the public key\n",
    "cipher = encrypt(msg)\n",
    "\n",
    "# Decrypt the message with the private key\n",
    "plain = decrypt(cipher)\n",
    "\n",
    "# Print results\n",
    "print(\"Message:\", msg)\n",
    "print(\"Encrypted:\", cipher)\n",
    "print(\"Decrypted:\", plain)"
   ]
  }
 ],
 "metadata": {
  "language_info": {
   "name": "python"
  }
 },
 "nbformat": 4,
 "nbformat_minor": 5
}
