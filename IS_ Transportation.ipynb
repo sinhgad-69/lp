{
 "cells": [
  {
   "cell_type": "code",
   "execution_count": 7,
   "id": "d4e2c8c2-c9ca-4fb0-8394-d578215c4ce2",
   "metadata": {},
   "outputs": [
    {
     "name": "stdin",
     "output_type": "stream",
     "text": [
      "Enter message:  transportation\n",
      "Enter key:  5\n"
     ]
    },
    {
     "name": "stdout",
     "output_type": "stream",
     "text": [
      "Encrypted: tptroiarontnsa\n",
      "Decrypted: transportation\n"
     ]
    }
   ],
   "source": [
    "def encrypt(message, key):\n",
    "    encrypted = [''] * key\n",
    "    for i in range(len(message)):\n",
    "        encrypted[i % key] += message[i]\n",
    "    return ''.join(encrypted)\n",
    "\n",
    "def decrypt(cipher, key):\n",
    "    n = len(cipher)\n",
    "    cols = n // key + (n % key != 0)\n",
    "    decrypted = [''] * cols\n",
    "    i = 0\n",
    "    for col in range(key):\n",
    "        for row in range(cols):\n",
    "            if i < n:\n",
    "                decrypted[row] += cipher[i]\n",
    "                i += 1\n",
    "    return ''.join(decrypted)\n",
    "\n",
    "# Example\n",
    "msg = input(\"Enter message: \")\n",
    "key = int(input(\"Enter key: \"))\n",
    "\n",
    "enc = encrypt(msg, key)\n",
    "print(\"Encrypted:\", enc)\n",
    "\n",
    "dec = decrypt(enc, key)\n",
    "print(\"Decrypted:\", dec)\n"
   ]
  },
  {
   "cell_type": "code",
   "execution_count": null,
   "id": "233f1bfc-e802-402b-9235-88d20e4f7931",
   "metadata": {},
   "outputs": [],
   "source": []
  }
 ],
 "metadata": {
  "kernelspec": {
   "display_name": "Python [conda env:base] *",
   "language": "python",
   "name": "conda-base-py"
  },
  "language_info": {
   "codemirror_mode": {
    "name": "ipython",
    "version": 3
   },
   "file_extension": ".py",
   "mimetype": "text/x-python",
   "name": "python",
   "nbconvert_exporter": "python",
   "pygments_lexer": "ipython3",
   "version": "3.12.7"
  }
 },
 "nbformat": 4,
 "nbformat_minor": 5
}
