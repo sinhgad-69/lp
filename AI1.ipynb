{
 "cells": [
  {
   "cell_type": "code",
   "execution_count": 3,
   "id": "40a660e3-66e7-4ffa-9c11-cadc49fdc736",
   "metadata": {},
   "outputs": [
    {
     "name": "stdout",
     "output_type": "stream",
     "text": [
      "DFS Traversal:\n",
      "A B D C E \n",
      "\n",
      "BFS Traversal:\n",
      "A B C D E "
     ]
    }
   ],
   "source": [
    "# Simple Undirected Graph\n",
    "graph = {\n",
    "    'A': ['B', 'C'],\n",
    "    'B': ['A', 'D'],\n",
    "    'C': ['A', 'E'],\n",
    "    'D': ['B'],\n",
    "    'E': ['C']\n",
    "}\n",
    "\n",
    "# Depth First Search (Recursive)\n",
    "def dfs(node, visited):\n",
    "    if node not in visited:\n",
    "        print(node, end=' ')\n",
    "        visited.add(node)\n",
    "        for neighbor in graph[node]:\n",
    "            dfs(neighbor, visited)\n",
    "\n",
    "# Breadth First Search (Using Queue)\n",
    "def bfs(start):\n",
    "    visited = set()\n",
    "    queue = [start]\n",
    "    while queue:\n",
    "        node = queue.pop(0)\n",
    "        if node not in visited:\n",
    "            print(node, end=' ')\n",
    "            visited.add(node)\n",
    "            queue.extend(graph[node])\n",
    "\n",
    "# Run DFS and BFS\n",
    "print(\"DFS Traversal:\")\n",
    "dfs('A', set())\n",
    "\n",
    "print(\"\\n\\nBFS Traversal:\")\n",
    "bfs('A')\n"
   ]
  },
  {
   "cell_type": "code",
   "execution_count": null,
   "id": "ab28c966-f89b-47c7-9af2-19b6e236f809",
   "metadata": {},
   "outputs": [],
   "source": []
  }
 ],
 "metadata": {
  "kernelspec": {
   "display_name": "Python [conda env:base] *",
   "language": "python",
   "name": "conda-base-py"
  },
  "language_info": {
   "codemirror_mode": {
    "name": "ipython",
    "version": 3
   },
   "file_extension": ".py",
   "mimetype": "text/x-python",
   "name": "python",
   "nbconvert_exporter": "python",
   "pygments_lexer": "ipython3",
   "version": "3.12.7"
  }
 },
 "nbformat": 4,
 "nbformat_minor": 5
}
