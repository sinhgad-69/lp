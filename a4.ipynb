{
 "cells": [
  {
   "cell_type": "code",
   "execution_count": 1,
   "id": "bd3ff377",
   "metadata": {},
   "outputs": [
    {
     "name": "stdout",
     "output_type": "stream",
     "text": [
      "Enter the number of queens: \n",
      "Solution:\n",
      "[1, 0, 0, 0, 0, 0, 0, 0, 0, 0]\n",
      "[0, 0, 1, 0, 0, 0, 0, 0, 0, 0]\n",
      "[0, 0, 0, 0, 0, 1, 0, 0, 0, 0]\n",
      "[0, 0, 0, 0, 0, 0, 0, 1, 0, 0]\n",
      "[0, 0, 0, 0, 0, 0, 0, 0, 0, 1]\n",
      "[0, 0, 0, 0, 1, 0, 0, 0, 0, 0]\n",
      "[0, 0, 0, 0, 0, 0, 0, 0, 1, 0]\n",
      "[0, 1, 0, 0, 0, 0, 0, 0, 0, 0]\n",
      "[0, 0, 0, 1, 0, 0, 0, 0, 0, 0]\n",
      "[0, 0, 0, 0, 0, 0, 1, 0, 0, 0]\n"
     ]
    }
   ],
   "source": [
    "# Take the number of queens as input\n",
    "print(\"Enter the number of queens: \")\n",
    "N = int(input())\n",
    "\n",
    "# Chessboard initialization\n",
    "board = [[0] * N for _ in range(N)]\n",
    "\n",
    "# Function to check if placing a queen at position (i, j) will cause any attack\n",
    "def is_attack(i, j):\n",
    "    # Check the row and column\n",
    "    for k in range(N):\n",
    "        if board[i][k] == 1 or board[k][j] == 1:\n",
    "            return True\n",
    "\n",
    "    # Check the diagonals\n",
    "    for k in range(N):\n",
    "        for l in range(N):\n",
    "            if (k + l == i + j) or (k - l == i - j):  # Check for diagonal conflicts\n",
    "                if board[k][l] == 1:\n",
    "                    return True\n",
    "    return False\n",
    "\n",
    "# Function to solve the N-Queens problem using backtracking\n",
    "def N_queen(n):\n",
    "    if n == 0:  # If we've successfully placed all queens\n",
    "        return True\n",
    "    \n",
    "    # Try placing a queen at each position in the board\n",
    "    for i in range(N):\n",
    "        for j in range(N):\n",
    "            # Check if we can place a queen at (i, j) without attacks\n",
    "            if not is_attack(i, j) and board[i][j] != 1:\n",
    "                board[i][j] = 1  # Place a queen\n",
    "                \n",
    "                # Recursively attempt to place the rest of the queens\n",
    "                if N_queen(n - 1) == True:\n",
    "                    return True  # If placing this queen worked, return True\n",
    "                \n",
    "                # Backtrack if placing the queen at (i, j) didn't work\n",
    "                board[i][j] = 0\n",
    "\n",
    "    return False  # If no valid position is found, return False\n",
    "\n",
    "# Call the function to solve the N-Queens problem\n",
    "if N_queen(N):\n",
    "    print(\"Solution:\")\n",
    "    for i in board:\n",
    "        print(i)\n",
    "else:\n",
    "    print(\"No solution exists.\")"
   ]
  }
 ],
 "metadata": {
  "kernelspec": {
   "display_name": "Python 3 (ipykernel)",
   "language": "python",
   "name": "python3"
  },
  "language_info": {
   "codemirror_mode": {
    "name": "ipython",
    "version": 3
   },
   "file_extension": ".py",
   "mimetype": "text/x-python",
   "name": "python",
   "nbconvert_exporter": "python",
   "pygments_lexer": "ipython3",
   "version": "3.12.9"
  }
 },
 "nbformat": 4,
 "nbformat_minor": 5
}
