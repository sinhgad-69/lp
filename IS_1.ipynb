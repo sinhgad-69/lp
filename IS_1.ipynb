{
 "cells": [
  {
   "cell_type": "code",
   "execution_count": 11,
   "id": "a8cef3c9-a467-40c4-b866-1f7d4b550f4d",
   "metadata": {},
   "outputs": [
    {
     "name": "stdin",
     "output_type": "stream",
     "text": [
      "Enter : hello world\n"
     ]
    },
    {
     "name": "stdout",
     "output_type": "stream",
     "text": [
      "Character  AND 127      XOR 127\n"
     ]
    },
    {
     "ename": "NameError",
     "evalue": "name 'text' is not defined",
     "output_type": "error",
     "traceback": [
      "\u001b[1;31m---------------------------------------------------------------------------\u001b[0m",
      "\u001b[1;31mNameError\u001b[0m                                 Traceback (most recent call last)",
      "Cell \u001b[1;32mIn[11], line 6\u001b[0m\n\u001b[0;32m      2\u001b[0m string \u001b[38;5;241m=\u001b[39m \u001b[38;5;28minput\u001b[39m(\u001b[38;5;124m\"\u001b[39m\u001b[38;5;124mEnter :\u001b[39m\u001b[38;5;124m\"\u001b[39m)\n\u001b[0;32m      4\u001b[0m \u001b[38;5;28mprint\u001b[39m(\u001b[38;5;124m\"\u001b[39m\u001b[38;5;124mCharacter  AND 127      XOR 127\u001b[39m\u001b[38;5;124m\"\u001b[39m)\n\u001b[1;32m----> 6\u001b[0m \u001b[38;5;28;01mfor\u001b[39;00m char \u001b[38;5;129;01min\u001b[39;00m text:\n\u001b[0;32m      7\u001b[0m     and_result \u001b[38;5;241m=\u001b[39m \u001b[38;5;28mchr\u001b[39m(\u001b[38;5;28mord\u001b[39m(char) \u001b[38;5;241m&\u001b[39m \u001b[38;5;241m127\u001b[39m)  \u001b[38;5;66;03m# AND and convert back to character\u001b[39;00m\n\u001b[0;32m      8\u001b[0m     xor_result \u001b[38;5;241m=\u001b[39m \u001b[38;5;28mchr\u001b[39m(\u001b[38;5;28mord\u001b[39m(char) \u001b[38;5;241m^\u001b[39m \u001b[38;5;241m127\u001b[39m)  \u001b[38;5;66;03m# XOR and convert back to character\u001b[39;00m\n",
      "\u001b[1;31mNameError\u001b[0m: name 'text' is not defined"
     ]
    }
   ],
   "source": [
    "# Original string\n",
    "string = input(\"Enter :\")\n",
    "\n",
    "print(\"Character  AND 127      XOR 127\")\n",
    "\n",
    "for char in text:\n",
    "    and_result = chr(ord(char) & 127)  # AND and convert back to character\n",
    "    xor_result = chr(ord(char) ^ 127)  # XOR and convert back to character\n",
    "    print(f\"{char}            {and_result}             {xor_result}\")"
   ]
  },
  {
   "cell_type": "code",
   "execution_count": null,
   "id": "af8c463f-1b58-462b-903e-9d100581b933",
   "metadata": {},
   "outputs": [],
   "source": []
  }
 ],
 "metadata": {
  "kernelspec": {
   "display_name": "Python [conda env:base] *",
   "language": "python",
   "name": "conda-base-py"
  },
  "language_info": {
   "codemirror_mode": {
    "name": "ipython",
    "version": 3
   },
   "file_extension": ".py",
   "mimetype": "text/x-python",
   "name": "python",
   "nbconvert_exporter": "python",
   "pygments_lexer": "ipython3",
   "version": "3.12.7"
  }
 },
 "nbformat": 4,
 "nbformat_minor": 5
}
