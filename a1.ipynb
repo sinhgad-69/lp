{
 "cells": [
  {
   "cell_type": "code",
   "execution_count": 3,
   "id": "df36295e",
   "metadata": {},
   "outputs": [],
   "source": [
    "graph = {\n",
    "    'A': ['B','C'],\n",
    "    'B': ['D','E'],\n",
    "    'C': ['B','G'],\n",
    "    'D': ['B','I'],\n",
    "    'E':[],\n",
    "    'F': ['B','C'],\n",
    "    'G':[],\n",
    "    'I':[]\n",
    "}"
   ]
  },
  {
   "cell_type": "code",
   "execution_count": null,
   "id": "7fd48689",
   "metadata": {},
   "outputs": [
    {
     "name": "stdout",
     "output_type": "stream",
     "text": [
      "BSF Transversal: \n",
      "A B C D E G I "
     ]
    }
   ],
   "source": [
    "def bfs(visited,graph,node):\n",
    "    visited = []\n",
    "    queue = []\n",
    "    visited.append(node)\n",
    "    queue.append(node)\n",
    "    while queue:\n",
    "        m = queue.pop(0)\n",
    "        print(m,end=\" \")\n",
    "        for neighbour in graph[m]:\n",
    "            if neighbour not in visited:\n",
    "                visited.append(neighbour)\n",
    "                queue.append(neighbour)\n",
    "                \n",
    "print(\"BSF Transversal: \")\n",
    "bfs([],graph,'A')"
   ]
  },
  {
   "cell_type": "code",
   "execution_count": 6,
   "id": "e7e7a326",
   "metadata": {},
   "outputs": [
    {
     "name": "stdout",
     "output_type": "stream",
     "text": [
      "DFS Transversal: \n",
      "A B D I E C G "
     ]
    }
   ],
   "source": [
    "def dfs(visited,graph,node):\n",
    "    if node not in visited:\n",
    "        print(node, end=\" \")\n",
    "        visited.add(node)\n",
    "        for neighbour in graph[node]:\n",
    "            dfs(visited,graph,neighbour)\n",
    "            \n",
    "print(\"DFS Transversal: \")\n",
    "dfs(set(),graph,'A')"
   ]
  }
 ],
 "metadata": {
  "kernelspec": {
   "display_name": "Python 3 (ipykernel)",
   "language": "python",
   "name": "python3"
  },
  "language_info": {
   "codemirror_mode": {
    "name": "ipython",
    "version": 3
   },
   "file_extension": ".py",
   "mimetype": "text/x-python",
   "name": "python",
   "nbconvert_exporter": "python",
   "pygments_lexer": "ipython3",
   "version": "3.12.9"
  }
 },
 "nbformat": 4,
 "nbformat_minor": 5
}
