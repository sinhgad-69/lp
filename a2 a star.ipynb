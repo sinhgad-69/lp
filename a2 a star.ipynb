{
 "cells": [
  {
   "cell_type": "code",
   "execution_count": 1,
   "id": "82f76336",
   "metadata": {},
   "outputs": [
    {
     "name": "stdout",
     "output_type": "stream",
     "text": [
      "Path: [(0, 0), (1, 0), (2, 0), (2, 1), (2, 2), (3, 2), (4, 2), (4, 3), (4, 4)]\n"
     ]
    }
   ],
   "source": [
    "import heapq\n",
    "\n",
    "def heuristic(a, b):\n",
    "    return abs(a[0] - b[0]) + abs(a[1] - b[1])\n",
    "\n",
    "def astar(grid, start, goal):\n",
    "    rows, cols = len(grid), len(grid[0])\n",
    "    open_list = [(0 + heuristic(start, goal), 0, start, [])]\n",
    "    visited = set()\n",
    "\n",
    "    while open_list:\n",
    "        f, g, current, path = heapq.heappop(open_list)\n",
    "        if current in visited:\n",
    "            continue\n",
    "        path = path + [current]\n",
    "        if current == goal:\n",
    "            return path\n",
    "        visited.add(current)\n",
    "\n",
    "        for dr, dc in [(-1,0),(1,0),(0,-1),(0,1)]:\n",
    "            nr, nc = current[0] + dr, current[1] + dc\n",
    "            neighbor = (nr, nc)\n",
    "            if 0 <= nr < rows and 0 <= nc < cols and grid[nr][nc] == 0:\n",
    "                if neighbor not in visited:\n",
    "                    heapq.heappush(open_list, (g + 1 + heuristic(neighbor, goal), g + 1, neighbor, path))\n",
    "    return None\n",
    "\n",
    "# Example usage\n",
    "grid = [\n",
    "    [0, 1, 0, 1, 0],\n",
    "    [0, 1, 0, 1, 0],\n",
    "    [0, 0, 0, 1, 0],\n",
    "    [1, 1, 0, 1, 0],\n",
    "    [0, 0, 0, 0, 0]\n",
    "]\n",
    "start, goal = (0, 0), (4, 4)\n",
    "path = astar(grid, start, goal)\n",
    "print(\"Path:\", path if path else \"No path found\")"
   ]
  }
 ],
 "metadata": {
  "kernelspec": {
   "display_name": "Python 3 (ipykernel)",
   "language": "python",
   "name": "python3"
  }
 },
 "nbformat": 4,
 "nbformat_minor": 5
}
