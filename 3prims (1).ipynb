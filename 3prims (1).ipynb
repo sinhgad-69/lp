{
 "cells": [
  {
   "cell_type": "code",
   "execution_count": 1,
   "id": "15e010a7-168e-475b-98c3-56999b34fdc3",
   "metadata": {},
   "outputs": [
    {
     "name": "stdout",
     "output_type": "stream",
     "text": [
      "Minimum Spanning Tree:\n",
      "('A', 'B', 2)\n",
      "('B', 'C', 1)\n",
      "('B', 'D', 1)\n"
     ]
    }
   ],
   "source": [
    "graph = {\n",
    "    'A': {'B': 2, 'C': 3},\n",
    "    'B': {'A': 2, 'C': 1, 'D': 1},\n",
    "    'C': {'A': 3, 'B': 1, 'D': 4},\n",
    "    'D': {'B': 1, 'C': 4}\n",
    "}\n",
    "\n",
    "visited = set()\n",
    "mst = []\n",
    "\n",
    "def prim(start):\n",
    "    visited.add(start)\n",
    "\n",
    "    while len(visited) < len(graph):\n",
    "        min_edge = None\n",
    "        min_cost = float('inf')\n",
    "\n",
    "        for u in visited:\n",
    "            for v, cost in graph[u].items():\n",
    "                if v not in visited and cost < min_cost:\n",
    "                    min_edge = (u, v, cost)\n",
    "                    min_cost = cost\n",
    "\n",
    "        if min_edge:\n",
    "            u, v, cost = min_edge\n",
    "            visited.add(v)\n",
    "            mst.append((u, v, cost))\n",
    "\n",
    "prim('A')\n",
    "\n",
    "print(\"Minimum Spanning Tree:\")\n",
    "for edge in mst:\n",
    "    print(edge)"
   ]
  },
  {
   "cell_type": "code",
   "execution_count": null,
   "id": "016037cd-cde0-447d-87e4-20c5bc6050bd",
   "metadata": {},
   "outputs": [],
   "source": []
  }
 ],
 "metadata": {
  "kernelspec": {
   "display_name": "Python [conda env:base] *",
   "language": "python",
   "name": "conda-base-py"
  },
  "language_info": {
   "codemirror_mode": {
    "name": "ipython",
    "version": 3
   },
   "file_extension": ".py",
   "mimetype": "text/x-python",
   "name": "python",
   "nbconvert_exporter": "python",
   "pygments_lexer": "ipython3",
   "version": "3.12.7"
  }
 },
 "nbformat": 4,
 "nbformat_minor": 5
}
