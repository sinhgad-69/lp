{
 "cells": [
  {
   "cell_type": "code",
   "execution_count": null,
   "id": "06bae77f",
   "metadata": {
    "vscode": {
     "languageId": "plaintext"
    }
   },
   "outputs": [],
   "source": [
    "# Small fixed primes for simplicity\n",
    "p = 61  # Increased primes for better encryption\n",
    "q = 53  # Increased primes for better encryption\n",
    "n = p * q               # n = 3233\n",
    "phi = (p - 1) * (q - 1) # phi = 3120\n",
    "e = 17                   # Choose e such that 1 < e < phi and gcd(e, phi) = 1\n",
    "\n",
    "# Compute modular inverse of e mod phi\n",
    "def mod_inverse(e, phi):\n",
    "    for d in range(1, phi):\n",
    "        if (e * d) % phi == 1:\n",
    "            return d\n",
    "    return None\n",
    "\n",
    "d = mod_inverse(e, phi)\n",
    "\n",
    "# Encrypt and decrypt a string message\n",
    "def encrypt(msg):\n",
    "    encrypted_msg = [encrypt_char(ord(char)) for char in msg]\n",
    "    return encrypted_msg\n",
    "\n",
    "def decrypt(cipher):\n",
    "    decrypted_msg = ''.join([chr(decrypt_char(c)) for c in cipher])\n",
    "    return decrypted_msg\n",
    "\n",
    "# Encrypt and decrypt single character\n",
    "def encrypt_char(m):\n",
    "    return (m ** e) % n\n",
    "\n",
    "def decrypt_char(c):\n",
    "    return (c ** d) % n\n",
    "\n",
    "# Example: Encrypt and decrypt a string message\n",
    "msg = input(\"Enter a message to encrypt: \")\n",
    "\n",
    "cipher_text = encrypt(msg)\n",
    "print(\"Encrypted Message:\", cipher_text)\n",
    "\n",
    "decrypted_message = decrypt(cipher_text)\n",
    "print(\"Decrypted Message:\", decrypted_message)"
   ]
  }
 ],
 "metadata": {
  "language_info": {
   "name": "python"
  }
 },
 "nbformat": 4,
 "nbformat_minor": 5
}
