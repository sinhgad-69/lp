{
 "cells": [
  {
   "cell_type": "code",
   "execution_count": 2,
   "id": "415295a6",
   "metadata": {},
   "outputs": [
    {
     "name": "stdout",
     "output_type": "stream",
     "text": [
      "[1, 21, 23, 44, 53, 54]\n"
     ]
    }
   ],
   "source": [
    "def selection_sort(arr):\n",
    "    for i in range(len(arr)):\n",
    "        min_index = i\n",
    "        for j in range(i+1,len(arr)):\n",
    "            if arr[j]<arr[min_index]:\n",
    "                min_index = j\n",
    "        arr[i],arr[min_index] = arr[min_index],arr[i]\n",
    "    return arr\n",
    "a1 = [23,54,21,44,53,1]\n",
    "print(selection_sort(a1))\n",
    "                "
   ]
  },
  {
   "cell_type": "code",
   "execution_count": 9,
   "id": "2ffb72ff",
   "metadata": {},
   "outputs": [
    {
     "name": "stdout",
     "output_type": "stream",
     "text": [
      "[('A', 'B', 2), ('B', 'C', 1), ('B', 'D', 1)]\n"
     ]
    }
   ],
   "source": [
    "import heapq\n",
    "def prim(graph,start):\n",
    "    visited= set()\n",
    "    mst = []\n",
    "    min_heap = []\n",
    "    visited.add(start)\n",
    "    for neighbour,cost in graph[start].items():\n",
    "        heapq.heappush(min_heap,(cost,start,neighbour))\n",
    "        \n",
    "    while min_heap:\n",
    "        cost,frm,to = heapq.heappop(min_heap)\n",
    "        if to not in visited:\n",
    "            visited.add(to)\n",
    "            mst.append((frm,to,cost))\n",
    "            for neighbour ,cost2 in graph[to]. items():\n",
    "                if neighbour not in visited:\n",
    "                    heapq.heappush(min_heap, (cost2, to, neighbour))\n",
    "                    \n",
    "    return mst\n",
    "\n",
    "# Graph definition\n",
    "graph = {\n",
    "    'A': {'B': 2, 'C': 3},\n",
    "    'B': {'A': 2, 'C': 1, 'D': 1},\n",
    "    'C': {'A': 3, 'B': 1, 'D': 4},\n",
    "    'D': {'B': 1, 'C': 4}\n",
    "}\n",
    "\n",
    "# Output\n",
    "print(prim(graph,'A'))"
   ]
  },
  {
   "cell_type": "code",
   "execution_count": 10,
   "id": "73912680",
   "metadata": {},
   "outputs": [
    {
     "name": "stdout",
     "output_type": "stream",
     "text": [
      "[('B', 'C', 1), ('B', 'D', 1), ('A', 'B', 2)]\n"
     ]
    }
   ],
   "source": [
    "def kruskal(graph):\n",
    "    mst = []  # List to store the resulting MST edges\n",
    "    # Create list of all edges in the form (cost, from, to)\n",
    "    edges = [(cost, frm, to) for frm, to_dict in graph.items() for to, cost in to_dict.items()]\n",
    "    \n",
    "    # Sort the edges by their weights (ascending order)\n",
    "    edges.sort()\n",
    "\n",
    "    # Create a parent dictionary for Union-Find, where each node points to itself initially\n",
    "    parent = {node: node for node in graph}\n",
    "    \n",
    "    # Helper function to find the root of a node (with path compression)\n",
    "    def find_root(node):\n",
    "        if parent[node] == node:\n",
    "            return node\n",
    "        parent[node] = find_root(parent[node])  # Path compression\n",
    "        return parent[node]\n",
    "\n",
    "    # Process each edge, adding it to the MST if it doesn't form a cycle\n",
    "    for cost, frm, to in edges:\n",
    "        root1 = find_root(frm)\n",
    "        root2 = find_root(to)\n",
    "\n",
    "        # If the two nodes are in different sets, add the edge to the MST\n",
    "        if root1 != root2:\n",
    "            parent[root1] = root2  # Union the two sets\n",
    "            mst.append((frm, to, cost))\n",
    "\n",
    "    return mst  # Return the list of edges in the MST\n",
    "\n",
    "# Graph representation with weighted edges\n",
    "graph = {\n",
    "    'A': {'B': 2, 'C': 3},\n",
    "    'B': {'A': 2, 'C': 1, 'D': 1},\n",
    "    'C': {'A': 3, 'B': 1, 'D': 4},\n",
    "    'D': {'B': 1, 'C': 4}\n",
    "}\n",
    "\n",
    "# Run Kruskal's algorithm and print the MST\n",
    "print(kruskal(graph))"
   ]
  }
 ],
 "metadata": {
  "kernelspec": {
   "display_name": "Python 3 (ipykernel)",
   "language": "python",
   "name": "python3"
  },
  "language_info": {
   "codemirror_mode": {
    "name": "ipython",
    "version": 3
   },
   "file_extension": ".py",
   "mimetype": "text/x-python",
   "name": "python",
   "nbconvert_exporter": "python",
   "pygments_lexer": "ipython3",
   "version": "3.12.9"
  }
 },
 "nbformat": 4,
 "nbformat_minor": 5
}
